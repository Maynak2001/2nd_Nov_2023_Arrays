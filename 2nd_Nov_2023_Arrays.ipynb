{
 "cells": [
  {
   "cell_type": "code",
   "execution_count": 1,
   "id": "5c1ef509-b04c-4dbb-8603-28d4534a516d",
   "metadata": {},
   "outputs": [
    {
     "name": "stdout",
     "output_type": "stream",
     "text": [
      "True\n"
     ]
    }
   ],
   "source": [
    "def containsDuplicate(arr):\n",
    "    # Create an empty set to store unique elements.\n",
    "    seen = set()\n",
    "\n",
    "    # Iterate through the array.\n",
    "    for num in arr:\n",
    "        # If the current number is already in the set, it's a duplicate.\n",
    "        if num in seen:\n",
    "            return True\n",
    "        else:\n",
    "            # Otherwise, add the number to the set to track it.\n",
    "            seen.add(num)\n",
    "\n",
    "    # If we've iterated through the entire array without finding duplicates, return False.\n",
    "    return False\n",
    "\n",
    "# Example usage:\n",
    "arr = [1, 2, 4, 2, 5, 9]\n",
    "result = containsDuplicate(arr)\n",
    "print(result)\n"
   ]
  },
  {
   "cell_type": "code",
   "execution_count": 2,
   "id": "dbe6bfd3-5f12-49d3-b3af-77ef4984d099",
   "metadata": {},
   "outputs": [
    {
     "name": "stdout",
     "output_type": "stream",
     "text": [
      "[5, 6, 7, 1, 2, 3, 4]\n"
     ]
    }
   ],
   "source": [
    "def rotateArray(arr, k):\n",
    "    n = len(arr)\n",
    "    \n",
    "    # Handle the case where k is greater than the length of the array\n",
    "    k = k % n\n",
    "    \n",
    "    # Create a new list to store the rotated elements\n",
    "    rotated = [0] * n\n",
    "    \n",
    "    # Copy the last k elements to the beginning of the rotated array\n",
    "    for i in range(k):\n",
    "        rotated[i] = arr[n - k + i]\n",
    "    \n",
    "    # Copy the remaining elements to the end of the rotated array\n",
    "    for i in range(n - k):\n",
    "        rotated[i + k] = arr[i]\n",
    "    \n",
    "    return rotated\n",
    "\n",
    "# Example usage:\n",
    "arr = [1, 2, 3, 4, 5, 6, 7]\n",
    "k = 3\n",
    "result = rotateArray(arr, k)\n",
    "print(result)\n"
   ]
  },
  {
   "cell_type": "code",
   "execution_count": 3,
   "id": "672e815b-061a-479b-865a-678d9690739c",
   "metadata": {},
   "outputs": [
    {
     "name": "stdout",
     "output_type": "stream",
     "text": [
      "[12, 9, 7, 5, 4, 2]\n"
     ]
    }
   ],
   "source": [
    "def reverseArrayInPlace(arr):\n",
    "    start = 0  # Index of the first element\n",
    "    end = len(arr) - 1  # Index of the last element\n",
    "\n",
    "    while start < end:\n",
    "        # Swap the elements at the start and end indices\n",
    "        arr[start], arr[end] = arr[end], arr[start]\n",
    "\n",
    "        # Move the start index one step to the right\n",
    "        start += 1\n",
    "\n",
    "        # Move the end index one step to the left\n",
    "        end -= 1\n",
    "\n",
    "# Example usage:\n",
    "arr = [2, 4, 5, 7, 9, 12]\n",
    "reverseArrayInPlace(arr)\n",
    "print(arr) \n"
   ]
  },
  {
   "cell_type": "code",
   "execution_count": 4,
   "id": "5ed020c9-63ca-4919-bb9d-a2afef91bc97",
   "metadata": {},
   "outputs": [
    {
     "name": "stdout",
     "output_type": "stream",
     "text": [
      "20\n"
     ]
    }
   ],
   "source": [
    "def findMax(arr):\n",
    "    # Initialize a variable to store the maximum value and set it to the first element of the array\n",
    "    max_val = arr[0]\n",
    "\n",
    "    # Iterate through the array starting from the second element\n",
    "    for num in arr[1:]:\n",
    "        if num > max_val:\n",
    "            # If the current element is greater than the current maximum, update the maximum value\n",
    "            max_val = num\n",
    "\n",
    "    return max_val\n",
    "\n",
    "# Example usage:\n",
    "arr = [10, 5, 20, 8, 15]\n",
    "max_element = findMax(arr)\n",
    "print(max_element)  \n"
   ]
  },
  {
   "cell_type": "code",
   "execution_count": null,
   "id": "ea4e84f9-6502-4a7c-9b8e-46322817c03c",
   "metadata": {},
   "outputs": [],
   "source": []
  }
 ],
 "metadata": {
  "kernelspec": {
   "display_name": "Python 3 (ipykernel)",
   "language": "python",
   "name": "python3"
  },
  "language_info": {
   "codemirror_mode": {
    "name": "ipython",
    "version": 3
   },
   "file_extension": ".py",
   "mimetype": "text/x-python",
   "name": "python",
   "nbconvert_exporter": "python",
   "pygments_lexer": "ipython3",
   "version": "3.10.8"
  }
 },
 "nbformat": 4,
 "nbformat_minor": 5
}
